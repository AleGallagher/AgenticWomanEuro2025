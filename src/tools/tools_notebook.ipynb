{
 "cells": [
  {
   "cell_type": "markdown",
   "id": "ac960987",
   "metadata": {},
   "source": [
    "# 📑RAG Tool"
   ]
  },
  {
   "cell_type": "code",
   "execution_count": null,
   "id": "c55ec1f6",
   "metadata": {},
   "outputs": [
    {
     "name": "stdout",
     "output_type": "stream",
     "text": [
      "Yes, VAR will be used in the UEFA Women's Euro 2025 tournament.\n"
     ]
    }
   ],
   "source": [
    "import sys\n",
    "sys.path.append('f:/Python/AgenticEuro2025/src/')\n",
    "from agentic_rag_tool import agentic_rag\n",
    "from rag.vector_stores.faiss_store import FAISSStore\n",
    "from rag.embeddings.embedding_factory import EmbeddingFactory\n",
    "from dotenv import load_dotenv\n",
    "load_dotenv('../.env')\n",
    "\n",
    "embedding_model = EmbeddingFactory(\"ollama\").create_embedding()\n",
    "vector_store = FAISSStore(embedding_model)\n",
    "vector_store.load_vector_store()\n",
    "tool_result = agentic_rag.invoke({\"vector_store\": vector_store, \"question\": \"is there VAR?\", \"language\": \"Spanish\"})\n",
    "print(tool_result)"
   ]
  },
  {
   "cell_type": "markdown",
   "id": "731a9761",
   "metadata": {},
   "source": [
    "# 🛠️SQL Tool"
   ]
  },
  {
   "cell_type": "code",
   "execution_count": 1,
   "id": "b654641a",
   "metadata": {},
   "outputs": [
    {
     "name": "stdout",
     "output_type": "stream",
     "text": [
      "El entrenador de España es Montserrat Tomé Vázquez.\n"
     ]
    }
   ],
   "source": [
    "import sys\n",
    "sys.path.append('f:/Python/AgenticEuro2025/src/')\n",
    "from models.model_factory import ModelFactory\n",
    "from sql_tool import get_sql_tool\n",
    "from dotenv import load_dotenv\n",
    "load_dotenv('../.env')\n",
    "\n",
    "model = ModelFactory(\"openai\").create_model()\n",
    "print(get_sql_tool.invoke({\"model\": model, \"question\": \"who is the coach of spain?\", \"question_language\": \"Spanish\"}))"
   ]
  },
  {
   "cell_type": "markdown",
   "id": "e1a29757",
   "metadata": {},
   "source": [
    "# 🏆Qualification Tool"
   ]
  },
  {
   "cell_type": "code",
   "execution_count": 2,
   "id": "92630f07",
   "metadata": {},
   "outputs": [
    {
     "name": "stdout",
     "output_type": "stream",
     "text": [
      "Para determinar qué necesita Polonia para calificar en el Grupo A de la Eurocopa Femenina 2025, es esencial considerar los partidos restantes y la situación actual del grupo. Sin embargo, dado que no tengo acceso a los detalles específicos de los partidos restantes ni a la tabla de posiciones actual, proporcionaré una guía general basada en las reglas de clasificación.\n",
      "\n",
      "1. **Posibilidad de Clasificación:**\n",
      "   - **Victoria en Partidos Restantes:** Polonia debe ganar sus partidos restantes para maximizar sus puntos. Esto es crucial si actualmente no están entre los dos primeros lugares del grupo.\n",
      "   - **Dependencia de Otros Resultados:** Además de ganar, Polonia podría necesitar que otros equipos pierdan o empaten sus partidos para asegurar un lugar entre los dos primeros. Esto dependerá de la diferencia de puntos actual y la diferencia de goles.\n",
      "\n",
      "2. **Criterios de Desempate:**\n",
      "   - **Puntos en Enfrentamientos Directos:** Si Polonia está empatada en puntos con otro equipo al final de los partidos de grupo, se considerarán los puntos obtenidos en los enfrentamientos directos.\n",
      "   - **Diferencia de Goles en Enfrentamientos Directos:** Si los puntos en enfrentamientos directos son iguales, se evaluará la diferencia de goles en esos partidos.\n",
      "   - **Goles Marcados en Enfrentamientos Directos:** Si la diferencia de goles también es igual, se considerará el número de goles marcados en los enfrentamientos directos.\n",
      "\n",
      "3. **Escenarios Específicos:**\n",
      "   - **Ganar + Otros Equipos Empatan o Pierden:** Si Polonia gana sus partidos restantes, pero aún no está en posición de calificar, necesitarán que los equipos por encima de ellos empaten o pierdan para avanzar.\n",
      "   - **Empate + Derrota de Rivales Directos:** Si Polonia empata, necesitarán que los equipos rivales directos pierdan para tener una oportunidad de calificar, dependiendo de la diferencia de goles.\n",
      "\n",
      "Sin los detalles específicos de los partidos restantes y la tabla de posiciones actual, esta es una guía general. Para un análisis preciso, se necesitarían los datos actuales de puntos, diferencia de goles y los partidos restantes del grupo.\n"
     ]
    }
   ],
   "source": [
    "import sys\n",
    "sys.path.append('f:/Python/AgenticEuro2025/src/')\n",
    "from models.model_factory import ModelFactory\n",
    "from tools.qualification_tool import get_qualification_options\n",
    "from dotenv import load_dotenv\n",
    "load_dotenv('../.env')\n",
    "\n",
    "model = ModelFactory(\"openai\").create_model()\n",
    "print(get_qualification_options.invoke({\"model\": model, \"question\": \"What need Poland to qualify?\", \"question_language\": \"Spanish\"}))"
   ]
  }
 ],
 "metadata": {
  "kernelspec": {
   "display_name": "base",
   "language": "python",
   "name": "python3"
  },
  "language_info": {
   "codemirror_mode": {
    "name": "ipython",
    "version": 3
   },
   "file_extension": ".py",
   "mimetype": "text/x-python",
   "name": "python",
   "nbconvert_exporter": "python",
   "pygments_lexer": "ipython3",
   "version": "3.12.7"
  }
 },
 "nbformat": 4,
 "nbformat_minor": 5
}
